{
 "cells": [
  {
   "cell_type": "markdown",
   "metadata": {},
   "source": [
    "# SDC"
   ]
  },
  {
   "cell_type": "markdown",
   "metadata": {},
   "source": [
    "### **import**"
   ]
  },
  {
   "cell_type": "code",
   "execution_count": 1,
   "metadata": {},
   "outputs": [
    {
     "name": "stderr",
     "output_type": "stream",
     "text": [
      "C:\\Users\\Humberto de Castro\\AppData\\Local\\Temp\\ipykernel_20288\\2168663434.py:1: DeprecationWarning: \n",
      "Pyarrow will become a required dependency of pandas in the next major release of pandas (pandas 3.0),\n",
      "(to allow more performant data types, such as the Arrow string type, and better interoperability with other libraries)\n",
      "but was not found to be installed on your system.\n",
      "If this would cause problems for you,\n",
      "please provide us feedback at https://github.com/pandas-dev/pandas/issues/54466\n",
      "        \n",
      "  import pandas as pd\n"
     ]
    }
   ],
   "source": [
    "import pandas as pd\n",
    "import pyodbc\n",
    "import sqlite3\n",
    "from datetime import datetime"
   ]
  },
  {
   "cell_type": "markdown",
   "metadata": {},
   "source": [
    "### **Database connection**"
   ]
  },
  {
   "cell_type": "code",
   "execution_count": 2,
   "metadata": {},
   "outputs": [],
   "source": [
    "DB = {'servername': 'LAPTOP-LPE28RPE\\SQLEXPRESS', \n",
    "    'database': 'DEDS'}\n",
    "\n",
    "export_conn = pyodbc.connect('DRIVER={SQL Server};SERVER=' + DB['servername'] + \n",
    "                              ';DATABASE=' + DB['database'])\n",
    "\n",
    "export_cursor = export_conn.cursor()\n",
    "export_cursor   \n",
    "\n",
    "go_sales_con = sqlite3.connect('Great_Outdoors_Data_SQLite\\go_sales.sqlite')\n",
    "go_crm_con = sqlite3.connect('Great_Outdoors_Data_SQLite\\go_crm.sqlite')\n",
    "go_staff_con = sqlite3.connect('Great_Outdoors_Data_SQLite\\go_staff.sqlite')\n",
    "go_inv_con = 'Great_Outdoors_Data_SQLite\\GO_SALES_INVENTORY_LEVELSData.csv'\n",
    "go_forecast_con = 'Great_Outdoors_Data_SQLite\\GO_SALES_PRODUCT_FORECASTData.csv'"
   ]
  },
  {
   "cell_type": "markdown",
   "metadata": {},
   "source": [
    "### **Dataframes aanmaken**"
   ]
  },
  {
   "cell_type": "code",
   "execution_count": 3,
   "metadata": {},
   "outputs": [
    {
     "name": "stderr",
     "output_type": "stream",
     "text": [
      "C:\\Users\\Humberto de Castro\\AppData\\Local\\Temp\\ipykernel_20288\\4046988446.py:56: UserWarning: Could not infer format, so each element will be parsed individually, falling back to `dateutil`. To ensure parsing is consistent and as-expected, please specify a format.\n",
      "  Sales_staff['DATE_HIRED'] = pd.to_datetime(Sales_staff['DATE_HIRED'], errors='coerce')\n"
     ]
    }
   ],
   "source": [
    "Go_staff_queries = {\n",
    "    'Course': 'SELECT * FROM Course',\n",
    "    'Training': 'SELECT * FROM Training',\n",
    "    'Sales_staff': 'SELECT * FROM Sales_staff',\n",
    "    'Satisfaction': 'SELECT * FROM Satisfaction',\n",
    "    'Satisfaction_type': 'SELECT * FROM Satisfaction_type',\n",
    "}\n",
    "\n",
    "Go_crm_queries = {\n",
    "    'Retailer_contact': 'SELECT * FROM Retailer_contact',\n",
    "    'Retailer_site' : 'SELECT * FROM Retailer_site',\n",
    "    'Retailer' : 'SELECT * FROM Retailer',\n",
    "    'Retailer_type' : 'SELECT * FROM Retailer_type',\n",
    "    'COUNTRY': 'SELECT * FROM COUNTRY',\n",
    "    'Sales_territory': 'SELECT * FROM Sales_territory'\n",
    "}\n",
    "\n",
    "Go_sales_queries = {\n",
    "    'Order_method': 'SELECT * FROM Order_method',\n",
    "    'Order_header': 'SELECT * FROM Order_header',\n",
    "    'Order_details': 'SELECT * FROM Order_details',\n",
    "    'Returned_item': 'SELECT * FROM Returned_item',\n",
    "    'Return_reason': 'SELECT * FROM Return_reason',\n",
    "    'Product': 'SELECT * FROM Product',\n",
    "    'PRODUCT_TYPE': 'SELECT * FROM PRODUCT_TYPE',\n",
    "    'PRODUCT_LINE' : 'SELECT * FROM PRODUCT_LINE',\n",
    "    'Sales_TARGETData' : 'SELECT * FROM Sales_TARGETData',\n",
    "    'Sales_branch': 'SELECT * FROM Sales_branch'\n",
    "}\n",
    "\n",
    "\n",
    "dataframes = {}\n",
    "\n",
    "# Lees elke tabel in een DataFrame\n",
    "for table_name, query in Go_staff_queries.items():\n",
    "    dataframes[table_name] = pd.read_sql_query(query, go_staff_con)\n",
    "\n",
    "for table_name, query in Go_crm_queries.items():\n",
    "    dataframes[table_name] = pd.read_sql_query(query, go_crm_con)\n",
    "\n",
    "for table_name, query in Go_sales_queries.items():\n",
    "    dataframes[table_name] = pd.read_sql_query(query, go_sales_con)\n",
    "\n",
    "# Lees de CSV-bestanden in pandas DataFrames\n",
    "GO_SALES_INVENTORY_LEVELSData = pd.read_csv(go_inv_con, index_col=False)\n",
    "GO_SALES_PRODUCT_FORECASTData = pd.read_csv(go_forecast_con, index_col=False)\n",
    "\n",
    "# Voeg de DataFrames toe aan de dataframes dictionary\n",
    "dataframes['GO_SALES_INVENTORY_LEVELSData'] = GO_SALES_INVENTORY_LEVELSData\n",
    "dataframes['GO_SALES_PRODUCT_FORECASTData'] = GO_SALES_PRODUCT_FORECASTData\n",
    "\n",
    "#als je ik elk tabel als een dataframe/ variabele wil behandelen of aanroepen moet ik dit uitvoeren.\n",
    "for table_name, df in dataframes.items():\n",
    "    globals()[table_name] = df\n",
    "\n",
    "Sales_staff['DATE_HIRED'] = pd.to_datetime(Sales_staff['DATE_HIRED'], errors='coerce')\n",
    "Sales_staff['DATE_HIRED'] = Sales_staff['DATE_HIRED'].dt.date"
   ]
  },
  {
   "cell_type": "markdown",
   "metadata": {},
   "source": [
    "### **Course_dimensie loaden**"
   ]
  },
  {
   "cell_type": "code",
   "execution_count": 4,
   "metadata": {},
   "outputs": [],
   "source": [
    "course_dimensie = Course.rename(columns={\n",
    "    'COURSE_CODE': 'Course_COURSE_CODE',\n",
    "    'COURSE_DESCRIPTION': 'Course_COURSE_DESCRIPTION'\n",
    "})\n",
    "\n",
    "\n",
    "for index, row in course_dimensie.iterrows():\n",
    "\n",
    "    try:\n",
    "        query= \"\"\" INSERT INTO Course (Course_COURSE_CODE, Course_COURSE_DESCRIPTION) VALUES (?, ?)\"\"\"\n",
    "        params = (\n",
    "            row['Course_COURSE_CODE'], \n",
    "            row['Course_COURSE_DESCRIPTION']\n",
    "        )\n",
    "        export_cursor.execute(query, params)\n",
    "    except pyodbc.Error as e:\n",
    "        print(f\"An error occurred: {e}\")\n",
    "        print(query)\n",
    "\n",
    "export_conn.commit()\n",
    "\n"
   ]
  },
  {
   "cell_type": "markdown",
   "metadata": {},
   "source": [
    "### **Training_feit loaden**"
   ]
  },
  {
   "cell_type": "code",
   "execution_count": 5,
   "metadata": {},
   "outputs": [],
   "source": [
    "merge1 = pd.merge(Training, Sales_staff, on = 'SALES_STAFF_CODE')\n",
    "\n",
    "Training_feit = pd.merge(merge1, Course, on = 'COURSE_CODE')\n",
    "\n",
    "\n",
    "Training_feit = Training_feit.rename(columns = {\n",
    "    'YEAR' : 'Year_nr',\n",
    "    'SALES_STAFF_CODE' : 'Training_Sales_staff_code',\n",
    "    'COURSE_CODE' : 'Course_COURSE_CODE'\n",
    "})\n",
    "\n",
    "for index, row in Training_feit.iterrows():\n",
    "    # Voor elke Training rij, vind de meest recente Course_SK gebaseerd op Course_CODE\n",
    "    query = \"\"\"\n",
    "    SELECT TOP 1 Course_SK\n",
    "    FROM Course\n",
    "    WHERE Course_COURSE_CODE = ?\n",
    "    ORDER BY [Time-stamp] DESC  -- Selecteert op basis van de meest recente Timestamp\n",
    "    \"\"\"\n",
    "    export_cursor.execute(query, (row['Course_COURSE_CODE'],))\n",
    "    result = export_cursor.fetchone()\n",
    "\n",
    "    if result:\n",
    "        course_sk = result[0]\n",
    "        # Voeg de Course_SK in bij de bijbehorende Training rij met de juiste Course_FSK\n",
    "        insert_query = \"\"\"\n",
    "        INSERT INTO Training (Year_nr, Training_Sales_staff_code, Course_COURSE_CODE, Course_FSK) \n",
    "        VALUES (?, ?, ?, ?)\n",
    "        \"\"\"\n",
    "        params = (\n",
    "            row['Year_nr'],\n",
    "            row['Training_Sales_staff_code'],\n",
    "            row['Course_COURSE_CODE'],\n",
    "            course_sk  # De gevonden Course_SK\n",
    "        )\n",
    "        try:\n",
    "            export_cursor.execute(insert_query, params)\n",
    "        except pyodbc.Error as e:\n",
    "            print(f\"Een fout opgetreden: {e}\")\n",
    "    else:\n",
    "        print(f\"Geen overeenkomstige Course_SK gevonden voor Course_COURSE_CODE {row['Course_COURSE_CODE']}\")\n",
    "\n",
    "export_conn.commit()\n",
    "\n"
   ]
  },
  {
   "cell_type": "markdown",
   "metadata": {},
   "source": [
    "### **Data_mutatie simuleren**"
   ]
  },
  {
   "cell_type": "markdown",
   "metadata": {},
   "source": [
    "**Course**"
   ]
  },
  {
   "cell_type": "code",
   "execution_count": 6,
   "metadata": {},
   "outputs": [],
   "source": [
    "#Data om toe te voegen\n",
    "Nieuwe_data = pd.DataFrame([['10', 'GO New Course']], columns=['COURSE_CODE', 'COURSE_DESCRIPTION'])\n",
    "\n",
    "# Voeg nieuwe rij toe aan het DataFrame\n",
    "Course = pd.concat([Course, Nieuwe_data], ignore_index=True)\n",
    "\n",
    "# Update bestaande data\n",
    "Course.loc[Course['COURSE_CODE'] == '2', 'COURSE_DESCRIPTION'] = 'GO Updated Course'\n",
    "#Course.loc[Course['COURSE_CODE'] == '2', 'COURSE_DESCRIPTION'] = 'GO Updated Course opnieuw'"
   ]
  },
  {
   "cell_type": "markdown",
   "metadata": {},
   "source": [
    "**Training**"
   ]
  },
  {
   "cell_type": "code",
   "execution_count": 11,
   "metadata": {},
   "outputs": [],
   "source": [
    "# alle kolommen zijn pk's dus niks om te updaten\n",
    "Nieuwe_data = pd.DataFrame([['2008', '99', '2']], columns=['Year_nr', 'Training_Sales_staff_code', 'Course_COURSE_CODE'])\n",
    "Training_feit = pd.concat([Training_feit, Nieuwe_data], ignore_index=True)"
   ]
  },
  {
   "cell_type": "markdown",
   "metadata": {},
   "source": [
    "### **Controleren en toevoegen**"
   ]
  },
  {
   "cell_type": "markdown",
   "metadata": {},
   "source": [
    "**Course logica**"
   ]
  },
  {
   "cell_type": "code",
   "execution_count": 9,
   "metadata": {},
   "outputs": [],
   "source": [
    "course_dimensie = Course.rename(columns={\n",
    "    'COURSE_CODE': 'Course_COURSE_CODE',\n",
    "    'COURSE_DESCRIPTION': 'Course_COURSE_DESCRIPTION'\n",
    "})\n",
    "\n",
    "\n",
    "for index, row in course_dimensie.iterrows():\n",
    "    # Controleer of de rij bestaat en haal de huidige beschrijving op\n",
    "    export_cursor.execute(\"SELECT Course_COURSE_DESCRIPTION FROM Course WHERE Course_COURSE_CODE = ?\", row['Course_COURSE_CODE'])\n",
    "    result = export_cursor.fetchone()\n",
    "\n",
    "    if result is None:\n",
    "        # Rij bestaat niet, voeg toe\n",
    "        query = \"\"\"INSERT INTO Course (Course_COURSE_CODE, Course_COURSE_DESCRIPTION) VALUES (?, ?)\"\"\"\n",
    "        params = (row['Course_COURSE_CODE'], row['Course_COURSE_DESCRIPTION'])\n",
    "    elif result[0] != row['Course_COURSE_DESCRIPTION']:\n",
    "        # Rij bestaat en beschrijving is anders, beschouw dit als een \"update\" en voeg een nieuwe rij toe\n",
    "        query = \"\"\"INSERT INTO Course (Course_COURSE_CODE, Course_COURSE_DESCRIPTION) VALUES (?, ?)\"\"\"\n",
    "        params = (row['Course_COURSE_CODE'], row['Course_COURSE_DESCRIPTION'])\n",
    "    else:\n",
    "        # Rij bestaat en beschrijving is hetzelfde, doe niets\n",
    "        continue  # Ga verder met de volgende iteratie van de loop\n",
    "\n",
    "    try:\n",
    "        export_cursor.execute(query, params)\n",
    "    except pyodbc.Error as e:\n",
    "        print(f\"An error occurred: {e}\")\n",
    "        print(query)\n",
    "\n",
    "export_conn.commit()"
   ]
  },
  {
   "cell_type": "markdown",
   "metadata": {},
   "source": [
    "**Training logica**"
   ]
  },
  {
   "cell_type": "code",
   "execution_count": 13,
   "metadata": {},
   "outputs": [],
   "source": [
    "for index, row in Training_feit.iterrows():\n",
    "    # Controleer eerst of de rij al bestaat in de Training tabel\n",
    "    check_query = \"\"\"\n",
    "    SELECT COUNT(*)\n",
    "    FROM Training\n",
    "    WHERE Year_nr = ? AND Training_Sales_staff_code = ? AND Course_COURSE_CODE = ?\n",
    "    \"\"\"\n",
    "    export_cursor.execute(check_query, (row['Year_nr'], row['Training_Sales_staff_code'], row['Course_COURSE_CODE']))\n",
    "    count_result = export_cursor.fetchone()\n",
    "\n",
    "    if count_result[0] == 0:\n",
    "        # Rij bestaat niet, zoek naar de meest recente Course_SK voor de gegeven Course_COURSE_CODE\n",
    "        get_course_sk_query = \"\"\"\n",
    "        SELECT TOP 1 Course_SK\n",
    "        FROM Course\n",
    "        WHERE Course_COURSE_CODE = ?\n",
    "        ORDER BY [Time-stamp] DESC\n",
    "        \"\"\"\n",
    "        export_cursor.execute(get_course_sk_query, (row['Course_COURSE_CODE'],))\n",
    "        course_sk_result = export_cursor.fetchone()\n",
    "\n",
    "        if course_sk_result:\n",
    "            course_sk = course_sk_result[0]\n",
    "            # Voeg de nieuwe rij toe aan de Training tabel met de meest recente Course_FSK\n",
    "            insert_query = \"\"\"\n",
    "            INSERT INTO Training (Year_nr, Training_Sales_staff_code, Course_COURSE_CODE, Course_FSK) \n",
    "            VALUES (?, ?, ?, ?)\n",
    "            \"\"\"\n",
    "            params = (\n",
    "                row['Year_nr'],\n",
    "                row['Training_Sales_staff_code'],\n",
    "                row['Course_COURSE_CODE'],\n",
    "                course_sk  # De gevonden Course_SK\n",
    "            )\n",
    "            try:\n",
    "                export_cursor.execute(insert_query, params)\n",
    "            except pyodbc.Error as e:\n",
    "                print(f\"Een fout opgetreden: {e}\")\n",
    "        else:\n",
    "            print(f\"Geen overeenkomstige Course_SK gevonden voor Course_COURSE_CODE {row['Course_COURSE_CODE']}\")\n",
    "    #else:\n",
    "       # print(f\"Rij bestaat al voor Year_nr {row['Year_nr']}, Training_Sales_staff_code {row['Training_Sales_staff_code']}, Course_COURSE_CODE {row['Course_COURSE_CODE']}\")\n",
    "\n",
    "export_conn.commit()\n",
    "\n",
    "\n"
   ]
  }
 ],
 "metadata": {
  "kernelspec": {
   "display_name": "deds-portofolio-7jIqONoT-py3.11",
   "language": "python",
   "name": "python3"
  },
  "language_info": {
   "codemirror_mode": {
    "name": "ipython",
    "version": 3
   },
   "file_extension": ".py",
   "mimetype": "text/x-python",
   "name": "python",
   "nbconvert_exporter": "python",
   "pygments_lexer": "ipython3",
   "version": "3.11.8"
  }
 },
 "nbformat": 4,
 "nbformat_minor": 2
}
