{
 "cells": [
  {
   "cell_type": "markdown",
   "metadata": {},
   "source": [
    "Lijst 1\n",
    "Quicksort"
   ]
  },
  {
   "cell_type": "code",
   "execution_count": 1,
   "metadata": {},
   "outputs": [
    {
     "name": "stdout",
     "output_type": "stream",
     "text": [
      "Oorspronkelijke lijst:\n",
      "[38, 87, 65, 84, 86, 10, 28, 97, 46, 89, 48, 6, 47, 49, 77, 18, 13, 3, 2, 84]\n",
      "\n",
      "Gesorteerde lijst:\n",
      "[2, 3, 6, 10, 13, 18, 28, 38, 46, 47, 48, 49, 65, 77, 84, 84, 86, 87, 89, 97]\n"
     ]
    }
   ],
   "source": [
    "import random\n",
    "list = [random.randint(1, 100) for _ in range(20)]\n",
    "print(\"Oorspronkelijke lijst:\")\n",
    "print(list)\n",
    "\n",
    "\n",
    "def quicksort(list, left, right):\n",
    "    if left < right:\n",
    "        partition_pos = partition(list, left, right)\n",
    "        quicksort(list, left, partition_pos - 1) #quicksort word gecalled op de linker deel\n",
    "        quicksort(list, partition_pos + 1, right)#quicksort word gecalled op rechter deel\n",
    "\n",
    "\n",
    "def partition(list, left, right):\n",
    "    i = left \n",
    "    j = right - 1 \n",
    "    pivot = list[right]\n",
    "\n",
    "    while i < j: \n",
    "        while i < right and list[i] < pivot:\n",
    "            i += 1 #index i gaat naar rechts kijkt of een getal groter dan pivot\n",
    "        while j > left and list[j] >= pivot:\n",
    "            j -= 1 #index j gaat naar links kijkt of voor een getal kleiner dan pivot\n",
    "        \n",
    "        if i < j: #en ze hebben hun getallen gevonden swap ze\n",
    "            list[i], list[j] = list[j], list[i] \n",
    "    \n",
    "    if list[i] > pivot: # wanner i > j en i is > pivot swap met pivot\n",
    "        list[i], list[right] = list[right], list[i]\n",
    "\n",
    "    return i #voor de partition pos\n",
    "\n",
    "\n",
    "quicksort(list, 0, len(list) - 1)\n",
    "\n",
    "print(\"\\nGesorteerde lijst:\")\n",
    "print(list)\n"
   ]
  },
  {
   "cell_type": "markdown",
   "metadata": {},
   "source": [
    "Lijst 2 \n",
    "Insertion Sort"
   ]
  },
  {
   "cell_type": "code",
   "execution_count": 2,
   "metadata": {},
   "outputs": [
    {
     "name": "stdout",
     "output_type": "stream",
     "text": [
      "Oorspronkelijke lijst:\n",
      "[41, 80, 87, 45, 5, 27, 88, 95, 70, 89, 32, 41, 62, 5, 45, 81, 21, 95, 89, 95]\n",
      "\n",
      "Gesorteerde lijst:\n",
      "[5, 5, 21, 27, 32, 41, 41, 45, 45, 62, 70, 80, 81, 87, 88, 89, 89, 95, 95, 95]\n"
     ]
    }
   ],
   "source": [
    "import random\n",
    "\n",
    "list = [random.randint(1, 100) for _ in range(20)]\n",
    "print(\"Oorspronkelijke lijst:\")\n",
    "print(list)\n",
    "\n",
    "def insertion_sort(list):\n",
    "    #iterate unsorted rij\n",
    "    for i in range(1, len(list)):\n",
    "        #iterate sorted rij \n",
    "        j = i\n",
    "        while list[j - 1] > list[j] and j > 0: #vergelijk index met linker als linker getal groter is swap ze\n",
    "            list[j - 1], list[j] = list[j], list[j - 1]\n",
    "            j -= 1 #ga naar links\n",
    "\n",
    "\n",
    "insertion_sort(list)\n",
    "print(\"\\nGesorteerde lijst:\")\n",
    "print(list)"
   ]
  },
  {
   "cell_type": "markdown",
   "metadata": {},
   "source": [
    "Lijst 3\n",
    "Merge Sort"
   ]
  },
  {
   "cell_type": "code",
   "execution_count": 4,
   "metadata": {},
   "outputs": [
    {
     "name": "stdout",
     "output_type": "stream",
     "text": [
      "Oorspronkelijke lijst:\n",
      "[32, 79, 49, 6, 66, 4, 74, 93, 2, 53, 44, 23, 81, 86, 2, 31, 5, 15, 44, 79]\n",
      "\n",
      "Gesorteerde lijst:\n",
      "[2, 2, 4, 5, 6, 15, 23, 31, 32, 44, 44, 49, 53, 66, 74, 79, 79, 81, 86, 93]\n"
     ]
    }
   ],
   "source": [
    "import random\n",
    "list = [random.randint(1, 100) for _ in range(20)]\n",
    "print(\"Oorspronkelijke lijst:\")\n",
    "print(list)\n",
    "\n",
    "def merge_sort(list):\n",
    "    if len(list) > 1: \n",
    "        #List word gehalveerd in 2\n",
    "        left_list = list[:len(list)//2]  # vanaf het begin\n",
    "        right_list = list[len(list)//2:] # vanaf het eind\n",
    "\n",
    "        #recursion\n",
    "        merge_sort(left_list)\n",
    "        merge_sort(right_list)\n",
    "\n",
    "        #merge\n",
    "        i = 0 #left list idx\n",
    "        j = 0 #right list idx\n",
    "        k = 0 #merged list idx\n",
    "\n",
    "        while i < len(left_list) and j < len(right_list):\n",
    "            if left_list[i] < right_list[j]: #Vergelijk de meest linker indexes van beide lists \n",
    "                list[k] = left_list[i] # Als linker index kleiner is sla op in samengevoegde list\n",
    "                i += 1\n",
    "                \n",
    "            else:\n",
    "                list[k] = right_list[j] # Als rechter index kleiner is dan sla op in samengevoegde list\n",
    "                j += 1  \n",
    "\n",
    "            k += 1 #naar rechts in samengevoegde list\n",
    "\n",
    "        while i < len(left_list): # als i niks te vergelijken mee heeft sorteer de overblijvende getallen in samengevoegde lijst\n",
    "            list[k] = left_list[i]\n",
    "            i += 1\n",
    "            k += 1\n",
    "\n",
    "        while j < len(right_list):\n",
    "            list[k] = right_list[j]\n",
    "            j += 1\n",
    "            k += 1\n",
    "\n",
    "\n",
    "merge_sort(list)\n",
    "print(\"\\nGesorteerde lijst:\")\n",
    "print(list)\n"
   ]
  }
 ],
 "metadata": {
  "kernelspec": {
   "display_name": "deds-portofolio-7jIqONoT-py3.11",
   "language": "python",
   "name": "python3"
  },
  "language_info": {
   "codemirror_mode": {
    "name": "ipython",
    "version": 3
   },
   "file_extension": ".py",
   "mimetype": "text/x-python",
   "name": "python",
   "nbconvert_exporter": "python",
   "pygments_lexer": "ipython3",
   "version": "3.11.8"
  }
 },
 "nbformat": 4,
 "nbformat_minor": 2
}
