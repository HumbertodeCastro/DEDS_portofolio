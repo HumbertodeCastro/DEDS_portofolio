{
 "cells": [
  {
   "cell_type": "markdown",
   "metadata": {},
   "source": [
    "# Datastructures: Lists, dictonairies, tuples\n",
    "\n",
    "### 1. Lists\n",
    "\n",
    "**Algoritme:**\n",
    "\n",
    "lists kunnen gebruikt worden in verschillende algoritmen, maar een bekende algoritme is merge_sort. Hier word de lijst recursief gehalveerd in 2 delen totdat elk deellijst maar 1 element bevat. dan sorteert het de deellijsten en vervolgens worden ze samengevoegd \n",
    "\n",
    "De complexiteitsgraad is **O(n log n)** n is de aantal elementen in de lijst. \n",
    "\n",
    "**Onderbouwing:**\n",
    "\n",
    "Doordat er alle elementen in de lijst **N** steeds gehalveerd word door 2 levert dit **log(n)** op met basis 2. daarna worden alle elementen **N** in de lijst een keer vergeleken en gesorteerd en vervolgens samengevoegd dit levert **O(n)** omdat elk element van elk deellijst maar 1 keer word vergeleken en verplaatst.\n",
    "\n",
    "dus is de gehele complexiteitsgraad van de Merge Sort: O(n) * O(log(n)) = **O(n * log(n))**"
   ]
  },
  {
   "cell_type": "code",
   "execution_count": 1,
   "metadata": {},
   "outputs": [
    {
     "name": "stdout",
     "output_type": "stream",
     "text": [
      "Oorspronkelijke lijst:\n",
      "[85, 24, 99, 63, 9, 2, 63, 77, 15, 1, 91, 28, 3, 60, 48, 9, 26, 96, 100, 97]\n",
      "\n",
      "Gesorteerde lijst:\n",
      "[1, 2, 3, 9, 9, 15, 24, 26, 28, 48, 60, 63, 63, 77, 85, 91, 96, 97, 99, 100]\n"
     ]
    }
   ],
   "source": [
    "import random\n",
    "list = [random.randint(1, 100) for _ in range(20)]\n",
    "print(\"Oorspronkelijke lijst:\")\n",
    "print(list)\n",
    "\n",
    "def merge_sort(list):\n",
    "    if len(list) > 1: \n",
    "        #List word gehalveerd in 2\n",
    "        left_list = list[:len(list)//2]  # vanaf het begin\n",
    "        right_list = list[len(list)//2:] # vanaf het eind\n",
    "\n",
    "        #recursion\n",
    "        merge_sort(left_list)\n",
    "        merge_sort(right_list)\n",
    "\n",
    "        #merge\n",
    "        i = 0 #left list idx\n",
    "        j = 0 #right list idx\n",
    "        k = 0 #merged list idx\n",
    "\n",
    "        while i < len(left_list) and j < len(right_list):\n",
    "            if left_list[i] < right_list[j]: #Vergelijk de meest linker indexes van beide lists \n",
    "                list[k] = left_list[i] # Als linker index kleiner is sla op in samengevoegde list\n",
    "                i += 1\n",
    "                \n",
    "            else:\n",
    "                list[k] = right_list[j] # Als rechter index kleiner is dan sla op in samengevoegde list\n",
    "                j += 1  \n",
    "\n",
    "            k += 1 #naar rechts in samengevoegde list\n",
    "\n",
    "        while i < len(left_list): # als i niks te vergelijken mee heeft sorteer de overblijvende getallen in samengevoegde lijst\n",
    "            list[k] = left_list[i]\n",
    "            i += 1\n",
    "            k += 1\n",
    "\n",
    "        while j < len(right_list):\n",
    "            list[k] = right_list[j]\n",
    "            j += 1\n",
    "            k += 1\n",
    "\n",
    "\n",
    "merge_sort(list)\n",
    "print(\"\\nGesorteerde lijst:\")\n",
    "print(list)"
   ]
  },
  {
   "cell_type": "markdown",
   "metadata": {},
   "source": [
    "### 2. Dictionairies\n",
    "\n",
    "**Algoritme:**\n",
    "\n",
    "Dictionairies kan bijvoorbeeld gebruikt worden in de **Two sum** probleem, hier is de taak twee nummers te vinden in the array dat samen evenveel is als de target sum. hiervoor gebruiken we dictionairy's, we maken een we berekenen de verschill tussen de target en de index en we kijken of de verschill in de dictionary, dat bestaat uit de nummer als key en de index als value.\n",
    "\n",
    "de complexiteitsgraad is **O(n)** n is de aantal elementen in de lijst\n",
    "\n",
    "**Onderbouwing**\n",
    "\n",
    "Het opzoeken van een waarde heeft de tijdscomplexiteit **O(1)** het heeft een constante tijdskost. Dit maakt het gebruik van dictionairy's efficienter. Het is een enkele loop door de lijst dus is de tijdscomplexiteit **O(n)**\n",
    "\n",
    "dus **O(1)** * **O(n)** = **O(n)**\n",
    "\n",
    "\n"
   ]
  },
  {
   "cell_type": "code",
   "execution_count": 21,
   "metadata": {},
   "outputs": [
    {
     "name": "stdout",
     "output_type": "stream",
     "text": [
      "Oorspronkelijke lijst:\n",
      "[26, 40, 13, 70, 55, 73, 54, 48, 94, 60, 81, 3, 48, 60, 27, 64, 76, 28, 86, 22]\n",
      "\n",
      "Indices van twee getallen die optellen tot 167: [5, 8]\n"
     ]
    }
   ],
   "source": [
    "import random\n",
    "\n",
    "list = [random.randint(1, 100) for _ in range(20)]\n",
    "print(\"Oorspronkelijke lijst:\")\n",
    "print(list)\n",
    "\n",
    "\n",
    "\n",
    "def two_sum(list, target):\n",
    "    # Dictionary om getallen bij te houden en hun index\n",
    "    num_dict = {}  \n",
    "    \n",
    "    for i, num in enumerate(list): #enumerate onthoud huidige index\n",
    "        difference = target - num\n",
    "        if difference in num_dict:\n",
    "            return [num_dict[difference], i]\n",
    "        num_dict[num] = i\n",
    "\n",
    "    return None\n",
    "\n",
    "\n",
    "# Kies een willekeurig target\n",
    "target = random.randint(1, 200)  \n",
    "result = two_sum(list, target)\n",
    "\n",
    "if result:\n",
    "    print(f\"\\nIndices van twee getallen die optellen tot {target}: {result}\")\n",
    "else:\n",
    "    print(f\"\\nGeen twee getallen in de lijst optellen tot {target}\")\n",
    "    print(\"\\nOorspronkelijke lijst blijft hetzelfde:\")\n",
    "    print(list)\n",
    "\n"
   ]
  },
  {
   "cell_type": "markdown",
   "metadata": {},
   "source": [
    "### 3. Tuples\n",
    "\n",
    "**Algoritme:**\n",
    "\n",
    "Tuples worden bijvoorbeeld gebruikt in de algoritme bubble sort, de tuples worden vaak gebruikt om de elementen in de lijst te vertegenwoordigen. \n",
    "\n",
    "*We hebben een lijst van tuples, waarbij elk tuple bestaat uit het element dat we willen sorteren en de index van dat element in de originele lijst.\n",
    "\n",
    "*Tijdens het sorteren vergelijken we telkens twee opeenvolgende tuples.\n",
    "\n",
    "*Als de eerste tuple een groter element bevat dan de tweede tuple, wisselen we ze van plaats.\n",
    "\n",
    "*We gaan door de lijst en herhalen dit proces totdat de lijst gesorteerd is.\n",
    "\n",
    "De tijdscomplexiteit van Bubble_Sort is O(n^2)\n",
    "\n",
    "**Onderbouwing:**\n",
    "\n",
    " In het slechtste geval, wanneer de lijst in omgekeerde volgorde staat, moet Bubble Sort elke keer door de gehele lijst gaan om één element naar de juiste positie te verplaatsen. Dit betekent dat het in het slechtste geval O(n^2) vergelijkingen en swaps uitvoert, waarbij n de lengte van de lijst is.\n",
    "\n",
    "Dus de big O van Bubble_sort is O(n^2)\n",
    "\n"
   ]
  },
  {
   "cell_type": "code",
   "execution_count": 5,
   "metadata": {},
   "outputs": [
    {
     "name": "stdout",
     "output_type": "stream",
     "text": [
      "Oorspronkelijke lijst:\n",
      "[92, 84, 33, 81, 48, 91, 47, 18, 4, 98, 88, 69, 89, 46, 49, 100, 28, 87, 56, 12]\n",
      "Gesorteerde lijst met Bubble Sort en tuples:\n",
      "[4, 12, 18, 28, 33, 46, 47, 48, 49, 56, 69, 81, 84, 87, 88, 89, 91, 92, 98, 100]\n"
     ]
    }
   ],
   "source": [
    "def Bubble_sort(list):\n",
    "    n = len(list)\n",
    "\n",
    "    # Omzetten van de lijst naar een lijst van tuples met (element, index)\n",
    "    Lijst_met_tuples = [(list[i], i) for i in range(n)]\n",
    "\n",
    "    for i in range(n):\n",
    "        # Het is niet nodig om het laatste i-element te vergelijken,\n",
    "        # want deze staan al op de juiste plek\n",
    "        for j in range(0, n-i-1):\n",
    "            if Lijst_met_tuples[j][0] > Lijst_met_tuples[j + 1][0]:\n",
    "                # Als het huidige element groter is dan het volgende element,\n",
    "                # wissel dan van plaats door de tuples te swappen\n",
    "                Lijst_met_tuples[j], Lijst_met_tuples[j + 1] = Lijst_met_tuples[j + 1], Lijst_met_tuples[j]\n",
    "\n",
    "    # De gesorteerde lijst van tuples omzetten naar de gesorteerde lijst van elementen\n",
    "    sorted_arr = [t[0] for t in Lijst_met_tuples]\n",
    "    return sorted_arr\n",
    "\n",
    "list = [random.randint(1, 100) for _ in range(20)]\n",
    "\n",
    "print(\"Oorspronkelijke lijst:\")\n",
    "print(list)\n",
    "\n",
    "# Bubble Sort met tuples gebruiken om de lijst te sorteren\n",
    "sorted_list = Bubble_sort(list)\n",
    "\n",
    "# Gesorteerde lijst afdrukken\n",
    "print(\"Gesorteerde lijst met Bubble Sort en tuples:\")\n",
    "print(sorted_list)"
   ]
  },
  {
   "cell_type": "markdown",
   "metadata": {},
   "source": [
    "# Python programma"
   ]
  },
  {
   "cell_type": "markdown",
   "metadata": {},
   "source": [
    "Hieronder zie je een python programma die ik wou schrijven waarin we datastructuren gebruiken om gegevens op te slaan en weer op te halen met behulp van het binaire zoekalgoritme"
   ]
  },
  {
   "cell_type": "code",
   "execution_count": 7,
   "metadata": {},
   "outputs": [
    {
     "name": "stdout",
     "output_type": "stream",
     "text": [
      "Gesorteerde lijst van getallen:\n",
      "[5, 20, 26, 33, 45, 48, 50, 52, 55, 56, 57, 60, 69, 71, 72, 77, 88, 91, 91, 96]\n",
      "\n",
      "Het doelwit getal 20 is gevonden op index 1.\n"
     ]
    }
   ],
   "source": [
    "def binary_search(list, target):\n",
    "   \n",
    "    left = 0\n",
    "    right = len(list) - 1\n",
    "\n",
    "    while left <= right:\n",
    "        mid = left + (right - left) // 2\n",
    "        if list[mid] == target:\n",
    "            return mid\n",
    "        elif list[mid] < target:\n",
    "            left = mid + 1\n",
    "        else:\n",
    "            right = mid - 1\n",
    "\n",
    "    return -1\n",
    "\n",
    "# Een lijst van getallen om te sorteren en door te zoeken\n",
    "list = [random.randint(1, 100) for _ in range(20)]\n",
    "    \n",
    "# De lijst sorteren met behulp van het ingebouwde sorteer algoritme\n",
    "list.sort()\n",
    "\n",
    "# Het gesorteerde lijst afdrukken\n",
    "print(\"Gesorteerde lijst van getallen:\")\n",
    "print(list)\n",
    "\n",
    "# Het doelwit getal invoeren om te zoeken\n",
    "target = int(input(\"\\nVoer het doelwit getal in om te zoeken: \"))\n",
    "\n",
    "# Het binair zoekalgoritme uitvoeren\n",
    "index = binary_search(list, target)\n",
    "\n",
    "# Resultaat afdrukken\n",
    "if index != -1:\n",
    "    print(f\"\\nHet doelwit getal {target} is gevonden op index {index}.\")\n",
    "else:\n",
    "    print(f\"\\nHet doelwit getal {target} is niet gevonden in de lijst.\")"
   ]
  }
 ],
 "metadata": {
  "kernelspec": {
   "display_name": "deds-portofolio-7jIqONoT-py3.11",
   "language": "python",
   "name": "python3"
  },
  "language_info": {
   "codemirror_mode": {
    "name": "ipython",
    "version": 3
   },
   "file_extension": ".py",
   "mimetype": "text/x-python",
   "name": "python",
   "nbconvert_exporter": "python",
   "pygments_lexer": "ipython3",
   "version": "3.11.8"
  }
 },
 "nbformat": 4,
 "nbformat_minor": 2
}
