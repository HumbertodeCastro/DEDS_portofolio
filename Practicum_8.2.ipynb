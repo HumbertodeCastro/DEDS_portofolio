{
 "cells": [
  {
   "cell_type": "markdown",
   "metadata": {},
   "source": [
    "# **Clasificatiemodellen in machine learning**"
   ]
  },
  {
   "cell_type": "markdown",
   "metadata": {},
   "source": [
    "## **Bibliotheken importeren**"
   ]
  },
  {
   "cell_type": "code",
   "execution_count": 3,
   "metadata": {},
   "outputs": [],
   "source": [
    "import pandas as pd\n",
    "import sqlite3\n",
    "from sklearn.model_selection import train_test_split\n",
    "from sklearn.tree import DecisionTreeClassifier\n",
    "from sklearn import tree\n",
    "from sklearn import metrics\n",
    "import matplotlib.pyplot as plt"
   ]
  },
  {
   "cell_type": "markdown",
   "metadata": {},
   "source": [
    "## **Data inlezen**"
   ]
  },
  {
   "cell_type": "markdown",
   "metadata": {},
   "source": [
    "**connectie**"
   ]
  },
  {
   "cell_type": "code",
   "execution_count": 4,
   "metadata": {},
   "outputs": [],
   "source": [
    "go_sales_con = sqlite3.connect('Great_Outdoors_Data_SQLite\\go_sales.sqlite')\n",
    "go_crm_con = sqlite3.connect('Great_Outdoors_Data_SQLite\\go_crm.sqlite')\n",
    "go_staff_con = sqlite3.connect('Great_Outdoors_Data_SQLite\\go_staff.sqlite')\n",
    "go_inv_con = 'Great_Outdoors_Data_SQLite\\GO_SALES_INVENTORY_LEVELSData.csv'\n",
    "go_forecast_con = 'Great_Outdoors_Data_SQLite\\GO_SALES_PRODUCT_FORECASTData.csv'"
   ]
  },
  {
   "cell_type": "markdown",
   "metadata": {},
   "source": [
    "**Dataframes inlezen**"
   ]
  },
  {
   "cell_type": "code",
   "execution_count": 5,
   "metadata": {},
   "outputs": [
    {
     "name": "stdout",
     "output_type": "stream",
     "text": [
      "      INVENTORY_YEAR  INVENTORY_MONTH  PRODUCT_NUMBER  INVENTORY_COUNT\n",
      "0               2021                4              48             1932\n",
      "1               2021                4              49             1400\n",
      "2               2021                4              50            21705\n",
      "3               2021                4              51             9710\n",
      "4               2021                4              52             5616\n",
      "...              ...              ...             ...              ...\n",
      "3883            2022               12             111             1128\n",
      "3884            2022               12             112             7810\n",
      "3885            2022               12             113             3485\n",
      "3886            2022               12             114              350\n",
      "3887            2022               12             115             3310\n",
      "\n",
      "[3888 rows x 4 columns]\n"
     ]
    },
    {
     "name": "stderr",
     "output_type": "stream",
     "text": [
      "C:\\Users\\Humberto de Castro\\AppData\\Local\\Temp\\ipykernel_109796\\3545798196.py:56: UserWarning: Could not infer format, so each element will be parsed individually, falling back to `dateutil`. To ensure parsing is consistent and as-expected, please specify a format.\n",
      "  Sales_staff['DATE_HIRED'] = pd.to_datetime(Sales_staff['DATE_HIRED'], errors='coerce')\n"
     ]
    }
   ],
   "source": [
    "Go_staff_queries = {\n",
    "    'Course': 'SELECT * FROM Course',\n",
    "    'Training': 'SELECT * FROM Training',\n",
    "    'Sales_staff': 'SELECT * FROM Sales_staff',\n",
    "    'Satisfaction': 'SELECT * FROM Satisfaction',\n",
    "    'Satisfaction_type': 'SELECT * FROM Satisfaction_type',\n",
    "}\n",
    "\n",
    "Go_crm_queries = {\n",
    "    'Retailer_contact': 'SELECT * FROM Retailer_contact',\n",
    "    'Retailer_site' : 'SELECT * FROM Retailer_site',\n",
    "    'Retailer' : 'SELECT * FROM Retailer',\n",
    "    'Retailer_type' : 'SELECT * FROM Retailer_type',\n",
    "    'COUNTRY': 'SELECT * FROM COUNTRY',\n",
    "    'Sales_territory': 'SELECT * FROM Sales_territory'\n",
    "}\n",
    "\n",
    "Go_sales_queries = {\n",
    "    'Order_method': 'SELECT * FROM Order_method',\n",
    "    'Order_header': 'SELECT * FROM Order_header',\n",
    "    'Order_details': 'SELECT * FROM Order_details',\n",
    "    'Returned_item': 'SELECT * FROM Returned_item',\n",
    "    'Return_reason': 'SELECT * FROM Return_reason',\n",
    "    'Product': 'SELECT * FROM Product',\n",
    "    'PRODUCT_TYPE': 'SELECT * FROM PRODUCT_TYPE',\n",
    "    'PRODUCT_LINE' : 'SELECT * FROM PRODUCT_LINE',\n",
    "    'Sales_TARGETData' : 'SELECT * FROM Sales_TARGETData',\n",
    "    'Sales_branch': 'SELECT * FROM Sales_branch'\n",
    "}\n",
    "\n",
    "\n",
    "dataframes = {}\n",
    "\n",
    "# Lees elke tabel in een DataFrame\n",
    "for table_name, query in Go_staff_queries.items():\n",
    "    dataframes[table_name] = pd.read_sql_query(query, go_staff_con)\n",
    "\n",
    "for table_name, query in Go_crm_queries.items():\n",
    "    dataframes[table_name] = pd.read_sql_query(query, go_crm_con)\n",
    "\n",
    "for table_name, query in Go_sales_queries.items():\n",
    "    dataframes[table_name] = pd.read_sql_query(query, go_sales_con)\n",
    "\n",
    "# Lees de CSV-bestanden in pandas DataFrames\n",
    "GO_SALES_INVENTORY_LEVELSData = pd.read_csv(go_inv_con, index_col=False)\n",
    "GO_SALES_PRODUCT_FORECASTData = pd.read_csv(go_forecast_con, index_col=False)\n",
    "\n",
    "# Voeg de DataFrames toe aan de dataframes dictionary\n",
    "dataframes['GO_SALES_INVENTORY_LEVELSData'] = GO_SALES_INVENTORY_LEVELSData\n",
    "dataframes['GO_SALES_PRODUCT_FORECASTData'] = GO_SALES_PRODUCT_FORECASTData\n",
    "\n",
    "#als je ik elk tabel als een dataframe/ variabele wil behandelen of aanroepen moet ik dit uitvoeren.\n",
    "for table_name, df in dataframes.items():\n",
    "    globals()[table_name] = df\n",
    "\n",
    "Sales_staff['DATE_HIRED'] = pd.to_datetime(Sales_staff['DATE_HIRED'], errors='coerce')\n",
    "Sales_staff['DATE_HIRED'] = Sales_staff['DATE_HIRED'].dt.date\n",
    "\n",
    "print(GO_SALES_INVENTORY_LEVELSData)"
   ]
  },
  {
   "cell_type": "markdown",
   "metadata": {},
   "source": [
    "**Kolomen selecteren**"
   ]
  },
  {
   "cell_type": "code",
   "execution_count": 13,
   "metadata": {},
   "outputs": [
    {
     "name": "stdout",
     "output_type": "stream",
     "text": [
      "706\n"
     ]
    },
    {
     "data": {
      "text/html": [
       "<div>\n",
       "<style scoped>\n",
       "    .dataframe tbody tr th:only-of-type {\n",
       "        vertical-align: middle;\n",
       "    }\n",
       "\n",
       "    .dataframe tbody tr th {\n",
       "        vertical-align: top;\n",
       "    }\n",
       "\n",
       "    .dataframe thead th {\n",
       "        text-align: right;\n",
       "    }\n",
       "</style>\n",
       "<table border=\"1\" class=\"dataframe\">\n",
       "  <thead>\n",
       "    <tr style=\"text-align: right;\">\n",
       "      <th></th>\n",
       "      <th>RETURN_QUANTITY</th>\n",
       "      <th>QUANTITY</th>\n",
       "      <th>UNIT_COST</th>\n",
       "      <th>UNIT_PRICE</th>\n",
       "      <th>UNIT_SALE_PRICE</th>\n",
       "      <th>PRODUCTION_COST</th>\n",
       "      <th>MARGIN</th>\n",
       "      <th>RETURN_DESCRIPTION_EN</th>\n",
       "    </tr>\n",
       "  </thead>\n",
       "  <tbody>\n",
       "    <tr>\n",
       "      <th>0</th>\n",
       "      <td>8</td>\n",
       "      <td>8</td>\n",
       "      <td>87.63</td>\n",
       "      <td>123.56</td>\n",
       "      <td>123.56</td>\n",
       "      <td>85.11</td>\n",
       "      <td>.28</td>\n",
       "      <td>Unsatisfactory product</td>\n",
       "    </tr>\n",
       "    <tr>\n",
       "      <th>1</th>\n",
       "      <td>2</td>\n",
       "      <td>22</td>\n",
       "      <td>88.23</td>\n",
       "      <td>151.77</td>\n",
       "      <td>151.77</td>\n",
       "      <td>75</td>\n",
       "      <td>.41</td>\n",
       "      <td>Incomplete product</td>\n",
       "    </tr>\n",
       "    <tr>\n",
       "      <th>2</th>\n",
       "      <td>22</td>\n",
       "      <td>22</td>\n",
       "      <td>78.26</td>\n",
       "      <td>134.63</td>\n",
       "      <td>134.63</td>\n",
       "      <td>75</td>\n",
       "      <td>.41</td>\n",
       "      <td>Wrong product shipped</td>\n",
       "    </tr>\n",
       "    <tr>\n",
       "      <th>3</th>\n",
       "      <td>20</td>\n",
       "      <td>20</td>\n",
       "      <td>78.26</td>\n",
       "      <td>134.63</td>\n",
       "      <td>126.16</td>\n",
       "      <td>75</td>\n",
       "      <td>.41</td>\n",
       "      <td>Wrong product ordered</td>\n",
       "    </tr>\n",
       "    <tr>\n",
       "      <th>4</th>\n",
       "      <td>2</td>\n",
       "      <td>28</td>\n",
       "      <td>64.36</td>\n",
       "      <td>90.09</td>\n",
       "      <td>90.09</td>\n",
       "      <td>60</td>\n",
       "      <td>.28</td>\n",
       "      <td>Defective product</td>\n",
       "    </tr>\n",
       "    <tr>\n",
       "      <th>...</th>\n",
       "      <td>...</td>\n",
       "      <td>...</td>\n",
       "      <td>...</td>\n",
       "      <td>...</td>\n",
       "      <td>...</td>\n",
       "      <td>...</td>\n",
       "      <td>...</td>\n",
       "      <td>...</td>\n",
       "    </tr>\n",
       "    <tr>\n",
       "      <th>701</th>\n",
       "      <td>24</td>\n",
       "      <td>24</td>\n",
       "      <td>46.45</td>\n",
       "      <td>92.91</td>\n",
       "      <td>69.68</td>\n",
       "      <td>45</td>\n",
       "      <td>.5</td>\n",
       "      <td>Wrong product ordered</td>\n",
       "    </tr>\n",
       "    <tr>\n",
       "      <th>702</th>\n",
       "      <td>66</td>\n",
       "      <td>66</td>\n",
       "      <td>60.5</td>\n",
       "      <td>90.76</td>\n",
       "      <td>75.63</td>\n",
       "      <td>60</td>\n",
       "      <td>.33</td>\n",
       "      <td>Unsatisfactory product</td>\n",
       "    </tr>\n",
       "    <tr>\n",
       "      <th>703</th>\n",
       "      <td>64</td>\n",
       "      <td>64</td>\n",
       "      <td>8.56</td>\n",
       "      <td>11.98</td>\n",
       "      <td>10.27</td>\n",
       "      <td>8.56</td>\n",
       "      <td>.28</td>\n",
       "      <td>Wrong product shipped</td>\n",
       "    </tr>\n",
       "    <tr>\n",
       "      <th>704</th>\n",
       "      <td>2</td>\n",
       "      <td>20</td>\n",
       "      <td>231.11</td>\n",
       "      <td>346.66</td>\n",
       "      <td>288.88</td>\n",
       "      <td>231.11</td>\n",
       "      <td>.33</td>\n",
       "      <td>Defective product</td>\n",
       "    </tr>\n",
       "    <tr>\n",
       "      <th>705</th>\n",
       "      <td>82</td>\n",
       "      <td>82</td>\n",
       "      <td>7.09</td>\n",
       "      <td>10.64</td>\n",
       "      <td>8.85</td>\n",
       "      <td>6</td>\n",
       "      <td>.33</td>\n",
       "      <td>Wrong product ordered</td>\n",
       "    </tr>\n",
       "  </tbody>\n",
       "</table>\n",
       "<p>706 rows × 8 columns</p>\n",
       "</div>"
      ],
      "text/plain": [
       "    RETURN_QUANTITY  QUANTITY UNIT_COST UNIT_PRICE UNIT_SALE_PRICE  \\\n",
       "0                 8         8     87.63     123.56          123.56   \n",
       "1                 2        22     88.23     151.77          151.77   \n",
       "2                22        22     78.26     134.63          134.63   \n",
       "3                20        20     78.26     134.63          126.16   \n",
       "4                 2        28     64.36      90.09           90.09   \n",
       "..              ...       ...       ...        ...             ...   \n",
       "701              24        24     46.45      92.91           69.68   \n",
       "702              66        66      60.5      90.76           75.63   \n",
       "703              64        64      8.56      11.98           10.27   \n",
       "704               2        20    231.11     346.66          288.88   \n",
       "705              82        82      7.09      10.64            8.85   \n",
       "\n",
       "    PRODUCTION_COST MARGIN   RETURN_DESCRIPTION_EN  \n",
       "0             85.11    .28  Unsatisfactory product  \n",
       "1                75    .41      Incomplete product  \n",
       "2                75    .41   Wrong product shipped  \n",
       "3                75    .41   Wrong product ordered  \n",
       "4                60    .28       Defective product  \n",
       "..              ...    ...                     ...  \n",
       "701              45     .5   Wrong product ordered  \n",
       "702              60    .33  Unsatisfactory product  \n",
       "703            8.56    .28   Wrong product shipped  \n",
       "704          231.11    .33       Defective product  \n",
       "705               6    .33   Wrong product ordered  \n",
       "\n",
       "[706 rows x 8 columns]"
      ]
     },
     "execution_count": 13,
     "metadata": {},
     "output_type": "execute_result"
    }
   ],
   "source": [
    "merge1 = pd.merge(Returned_item, Return_reason, on='RETURN_REASON_CODE')\n",
    "merge2 = pd.merge(merge1, Order_details, on= 'ORDER_DETAIL_CODE')\n",
    "merge3 = pd.merge(merge2, Product, on= 'PRODUCT_NUMBER', how = 'left')\n",
    "merge4 = pd.merge(merge3, Order_header, on= 'ORDER_NUMBER')\n",
    "\n",
    "print(len(merge4.index))\n",
    "\n",
    "df = merge4.loc[:, ['RETURN_QUANTITY', 'QUANTITY', 'UNIT_COST', 'UNIT_PRICE', 'UNIT_SALE_PRICE', 'PRODUCTION_COST', 'MARGIN', 'RETURN_DESCRIPTION_EN']]\n",
    "\n",
    "df\n"
   ]
  },
  {
   "cell_type": "markdown",
   "metadata": {},
   "source": [
    "## **One-hot encoding van onafhankelijke kolommen niet-numerieke variabelen**"
   ]
  },
  {
   "cell_type": "code",
   "execution_count": 14,
   "metadata": {},
   "outputs": [
    {
     "name": "stdout",
     "output_type": "stream",
     "text": [
      "<class 'pandas.core.frame.DataFrame'>\n",
      "RangeIndex: 706 entries, 0 to 705\n",
      "Data columns (total 8 columns):\n",
      " #   Column                 Non-Null Count  Dtype \n",
      "---  ------                 --------------  ----- \n",
      " 0   RETURN_QUANTITY        706 non-null    object\n",
      " 1   QUANTITY               706 non-null    int64 \n",
      " 2   UNIT_COST              706 non-null    object\n",
      " 3   UNIT_PRICE             706 non-null    object\n",
      " 4   UNIT_SALE_PRICE        706 non-null    object\n",
      " 5   PRODUCTION_COST        706 non-null    object\n",
      " 6   MARGIN                 706 non-null    object\n",
      " 7   RETURN_DESCRIPTION_EN  706 non-null    object\n",
      "dtypes: int64(1), object(7)\n",
      "memory usage: 44.3+ KB\n"
     ]
    }
   ],
   "source": [
    "df.info()"
   ]
  },
  {
   "cell_type": "markdown",
   "metadata": {},
   "source": [
    "## **horizontaal en Verticaal snijden**"
   ]
  },
  {
   "cell_type": "code",
   "execution_count": 18,
   "metadata": {},
   "outputs": [
    {
     "data": {
      "text/html": [
       "<div>\n",
       "<style scoped>\n",
       "    .dataframe tbody tr th:only-of-type {\n",
       "        vertical-align: middle;\n",
       "    }\n",
       "\n",
       "    .dataframe tbody tr th {\n",
       "        vertical-align: top;\n",
       "    }\n",
       "\n",
       "    .dataframe thead th {\n",
       "        text-align: right;\n",
       "    }\n",
       "</style>\n",
       "<table border=\"1\" class=\"dataframe\">\n",
       "  <thead>\n",
       "    <tr style=\"text-align: right;\">\n",
       "      <th></th>\n",
       "      <th>RETURN_QUANTITY</th>\n",
       "      <th>QUANTITY</th>\n",
       "      <th>UNIT_COST</th>\n",
       "      <th>UNIT_PRICE</th>\n",
       "      <th>UNIT_SALE_PRICE</th>\n",
       "      <th>PRODUCTION_COST</th>\n",
       "      <th>MARGIN</th>\n",
       "    </tr>\n",
       "  </thead>\n",
       "  <tbody>\n",
       "    <tr>\n",
       "      <th>44</th>\n",
       "      <td>104</td>\n",
       "      <td>104</td>\n",
       "      <td>4.38</td>\n",
       "      <td>6.59</td>\n",
       "      <td>6.59</td>\n",
       "      <td>4</td>\n",
       "      <td>.33</td>\n",
       "    </tr>\n",
       "    <tr>\n",
       "      <th>398</th>\n",
       "      <td>22</td>\n",
       "      <td>22</td>\n",
       "      <td>75</td>\n",
       "      <td>129</td>\n",
       "      <td>115.5</td>\n",
       "      <td>75</td>\n",
       "      <td>.41</td>\n",
       "    </tr>\n",
       "    <tr>\n",
       "      <th>70</th>\n",
       "      <td>66</td>\n",
       "      <td>66</td>\n",
       "      <td>28.55</td>\n",
       "      <td>39.99</td>\n",
       "      <td>39.99</td>\n",
       "      <td>28.55</td>\n",
       "      <td>.28</td>\n",
       "    </tr>\n",
       "    <tr>\n",
       "      <th>164</th>\n",
       "      <td>2</td>\n",
       "      <td>58</td>\n",
       "      <td>46.13</td>\n",
       "      <td>92.29</td>\n",
       "      <td>92.29</td>\n",
       "      <td>45</td>\n",
       "      <td>.5</td>\n",
       "    </tr>\n",
       "    <tr>\n",
       "      <th>289</th>\n",
       "      <td>4</td>\n",
       "      <td>114</td>\n",
       "      <td>20.1</td>\n",
       "      <td>40.2</td>\n",
       "      <td>40.2</td>\n",
       "      <td>20</td>\n",
       "      <td>.5</td>\n",
       "    </tr>\n",
       "    <tr>\n",
       "      <th>...</th>\n",
       "      <td>...</td>\n",
       "      <td>...</td>\n",
       "      <td>...</td>\n",
       "      <td>...</td>\n",
       "      <td>...</td>\n",
       "      <td>...</td>\n",
       "      <td>...</td>\n",
       "    </tr>\n",
       "    <tr>\n",
       "      <th>71</th>\n",
       "      <td>4</td>\n",
       "      <td>48</td>\n",
       "      <td>35.33</td>\n",
       "      <td>52.99</td>\n",
       "      <td>52.99</td>\n",
       "      <td>35.33</td>\n",
       "      <td>.33</td>\n",
       "    </tr>\n",
       "    <tr>\n",
       "      <th>106</th>\n",
       "      <td>78</td>\n",
       "      <td>78</td>\n",
       "      <td>18.19</td>\n",
       "      <td>25.29</td>\n",
       "      <td>25.29</td>\n",
       "      <td>17.97</td>\n",
       "      <td>.28</td>\n",
       "    </tr>\n",
       "    <tr>\n",
       "      <th>270</th>\n",
       "      <td>20</td>\n",
       "      <td>20</td>\n",
       "      <td>28.2</td>\n",
       "      <td>39.49</td>\n",
       "      <td>37.22</td>\n",
       "      <td>28.55</td>\n",
       "      <td>.28</td>\n",
       "    </tr>\n",
       "    <tr>\n",
       "      <th>435</th>\n",
       "      <td>2</td>\n",
       "      <td>58</td>\n",
       "      <td>86</td>\n",
       "      <td>129</td>\n",
       "      <td>116.08</td>\n",
       "      <td>86</td>\n",
       "      <td>.33</td>\n",
       "    </tr>\n",
       "    <tr>\n",
       "      <th>102</th>\n",
       "      <td>2</td>\n",
       "      <td>60</td>\n",
       "      <td>18.42</td>\n",
       "      <td>24.86</td>\n",
       "      <td>23.89</td>\n",
       "      <td>17.78</td>\n",
       "      <td>.25</td>\n",
       "    </tr>\n",
       "  </tbody>\n",
       "</table>\n",
       "<p>600 rows × 7 columns</p>\n",
       "</div>"
      ],
      "text/plain": [
       "    RETURN_QUANTITY  QUANTITY UNIT_COST UNIT_PRICE UNIT_SALE_PRICE  \\\n",
       "44              104       104      4.38       6.59            6.59   \n",
       "398              22        22        75        129           115.5   \n",
       "70               66        66     28.55      39.99           39.99   \n",
       "164               2        58     46.13      92.29           92.29   \n",
       "289               4       114      20.1       40.2            40.2   \n",
       "..              ...       ...       ...        ...             ...   \n",
       "71                4        48     35.33      52.99           52.99   \n",
       "106              78        78     18.19      25.29           25.29   \n",
       "270              20        20      28.2      39.49           37.22   \n",
       "435               2        58        86        129          116.08   \n",
       "102               2        60     18.42      24.86           23.89   \n",
       "\n",
       "    PRODUCTION_COST MARGIN  \n",
       "44                4    .33  \n",
       "398              75    .41  \n",
       "70            28.55    .28  \n",
       "164              45     .5  \n",
       "289              20     .5  \n",
       "..              ...    ...  \n",
       "71            35.33    .33  \n",
       "106           17.97    .28  \n",
       "270           28.55    .28  \n",
       "435              86    .33  \n",
       "102           17.78    .25  \n",
       "\n",
       "[600 rows x 7 columns]"
      ]
     },
     "execution_count": 18,
     "metadata": {},
     "output_type": "execute_result"
    }
   ],
   "source": [
    "x = df.drop('RETURN_DESCRIPTION_EN', axis=1)\n",
    "y = df.loc[:, 'RETURN_DESCRIPTION_EN']\n",
    "\n",
    "x_train, x_test, y_train, y_test = train_test_split(\n",
    "    x,\n",
    "    y,\n",
    "    test_size = 0.15,\n",
    "    random_state = 42\n",
    ")\n",
    "x_train"
   ]
  },
  {
   "cell_type": "markdown",
   "metadata": {},
   "source": [
    "## **Decision Tree bouwen en evalueren**"
   ]
  },
  {
   "cell_type": "markdown",
   "metadata": {},
   "source": [
    "## **Max_depth = 2**"
   ]
  },
  {
   "cell_type": "markdown",
   "metadata": {},
   "source": [
    "**Training model**"
   ]
  },
  {
   "cell_type": "code",
   "execution_count": 19,
   "metadata": {},
   "outputs": [
    {
     "data": {
      "image/png": "[encoded data removed]",
      "text/plain": [
       "<Figure size 640x480 with 1 Axes>"
      ]
     },
     "metadata": {},
     "output_type": "display_data"
    }
   ],
   "source": [
    "dtree = DecisionTreeClassifier(max_depth=2)\n",
    "dtree = dtree.fit(x_train, y_train)\n",
    "tree.plot_tree(dtree, feature_names= x.columns)\n",
    "plt.show()"
   ]
  },
  {
   "cell_type": "markdown",
   "metadata": {},
   "source": [
    "**Prediction met x_test**"
   ]
  },
  {
   "cell_type": "code",
   "execution_count": 21,
   "metadata": {},
   "outputs": [
    {
     "data": {
      "text/html": [
       "<div>\n",
       "<style scoped>\n",
       "    .dataframe tbody tr th:only-of-type {\n",
       "        vertical-align: middle;\n",
       "    }\n",
       "\n",
       "    .dataframe tbody tr th {\n",
       "        vertical-align: top;\n",
       "    }\n",
       "\n",
       "    .dataframe thead th {\n",
       "        text-align: right;\n",
       "    }\n",
       "</style>\n",
       "<table border=\"1\" class=\"dataframe\">\n",
       "  <thead>\n",
       "    <tr style=\"text-align: right;\">\n",
       "      <th></th>\n",
       "      <th>Predicted Reason</th>\n",
       "    </tr>\n",
       "  </thead>\n",
       "  <tbody>\n",
       "    <tr>\n",
       "      <th>0</th>\n",
       "      <td>Defective product</td>\n",
       "    </tr>\n",
       "    <tr>\n",
       "      <th>1</th>\n",
       "      <td>Defective product</td>\n",
       "    </tr>\n",
       "    <tr>\n",
       "      <th>2</th>\n",
       "      <td>Defective product</td>\n",
       "    </tr>\n",
       "    <tr>\n",
       "      <th>3</th>\n",
       "      <td>Unsatisfactory product</td>\n",
       "    </tr>\n",
       "    <tr>\n",
       "      <th>4</th>\n",
       "      <td>Unsatisfactory product</td>\n",
       "    </tr>\n",
       "    <tr>\n",
       "      <th>...</th>\n",
       "      <td>...</td>\n",
       "    </tr>\n",
       "    <tr>\n",
       "      <th>101</th>\n",
       "      <td>Defective product</td>\n",
       "    </tr>\n",
       "    <tr>\n",
       "      <th>102</th>\n",
       "      <td>Defective product</td>\n",
       "    </tr>\n",
       "    <tr>\n",
       "      <th>103</th>\n",
       "      <td>Defective product</td>\n",
       "    </tr>\n",
       "    <tr>\n",
       "      <th>104</th>\n",
       "      <td>Defective product</td>\n",
       "    </tr>\n",
       "    <tr>\n",
       "      <th>105</th>\n",
       "      <td>Unsatisfactory product</td>\n",
       "    </tr>\n",
       "  </tbody>\n",
       "</table>\n",
       "<p>106 rows × 1 columns</p>\n",
       "</div>"
      ],
      "text/plain": [
       "           Predicted Reason\n",
       "0         Defective product\n",
       "1         Defective product\n",
       "2         Defective product\n",
       "3    Unsatisfactory product\n",
       "4    Unsatisfactory product\n",
       "..                      ...\n",
       "101       Defective product\n",
       "102       Defective product\n",
       "103       Defective product\n",
       "104       Defective product\n",
       "105  Unsatisfactory product\n",
       "\n",
       "[106 rows x 1 columns]"
      ]
     },
     "execution_count": 21,
     "metadata": {},
     "output_type": "execute_result"
    }
   ],
   "source": [
    "predicted_df = pd.DataFrame(dtree.predict(x_test))\n",
    "predicted_df = predicted_df.rename(columns = {0: 'Predicted Reason'})\n",
    "predicted_df"
   ]
  },
  {
   "cell_type": "markdown",
   "metadata": {},
   "source": [
    "**Prediction vergelijken met y_test**"
   ]
  },
  {
   "cell_type": "code",
   "execution_count": 22,
   "metadata": {},
   "outputs": [
    {
     "data": {
      "text/html": [
       "<div>\n",
       "<style scoped>\n",
       "    .dataframe tbody tr th:only-of-type {\n",
       "        vertical-align: middle;\n",
       "    }\n",
       "\n",
       "    .dataframe tbody tr th {\n",
       "        vertical-align: top;\n",
       "    }\n",
       "\n",
       "    .dataframe thead th {\n",
       "        text-align: right;\n",
       "    }\n",
       "</style>\n",
       "<table border=\"1\" class=\"dataframe\">\n",
       "  <thead>\n",
       "    <tr style=\"text-align: right;\">\n",
       "      <th></th>\n",
       "      <th>RETURN_DESCRIPTION_EN</th>\n",
       "      <th>Predicted Reason</th>\n",
       "    </tr>\n",
       "  </thead>\n",
       "  <tbody>\n",
       "    <tr>\n",
       "      <th>0</th>\n",
       "      <td>Incomplete product</td>\n",
       "      <td>Defective product</td>\n",
       "    </tr>\n",
       "    <tr>\n",
       "      <th>1</th>\n",
       "      <td>Defective product</td>\n",
       "      <td>Defective product</td>\n",
       "    </tr>\n",
       "    <tr>\n",
       "      <th>2</th>\n",
       "      <td>Defective product</td>\n",
       "      <td>Defective product</td>\n",
       "    </tr>\n",
       "    <tr>\n",
       "      <th>3</th>\n",
       "      <td>Wrong product shipped</td>\n",
       "      <td>Unsatisfactory product</td>\n",
       "    </tr>\n",
       "    <tr>\n",
       "      <th>4</th>\n",
       "      <td>Unsatisfactory product</td>\n",
       "      <td>Unsatisfactory product</td>\n",
       "    </tr>\n",
       "    <tr>\n",
       "      <th>...</th>\n",
       "      <td>...</td>\n",
       "      <td>...</td>\n",
       "    </tr>\n",
       "    <tr>\n",
       "      <th>101</th>\n",
       "      <td>Defective product</td>\n",
       "      <td>Defective product</td>\n",
       "    </tr>\n",
       "    <tr>\n",
       "      <th>102</th>\n",
       "      <td>Incomplete product</td>\n",
       "      <td>Defective product</td>\n",
       "    </tr>\n",
       "    <tr>\n",
       "      <th>103</th>\n",
       "      <td>Defective product</td>\n",
       "      <td>Defective product</td>\n",
       "    </tr>\n",
       "    <tr>\n",
       "      <th>104</th>\n",
       "      <td>Defective product</td>\n",
       "      <td>Defective product</td>\n",
       "    </tr>\n",
       "    <tr>\n",
       "      <th>105</th>\n",
       "      <td>Unsatisfactory product</td>\n",
       "      <td>Unsatisfactory product</td>\n",
       "    </tr>\n",
       "  </tbody>\n",
       "</table>\n",
       "<p>106 rows × 2 columns</p>\n",
       "</div>"
      ],
      "text/plain": [
       "      RETURN_DESCRIPTION_EN        Predicted Reason\n",
       "0        Incomplete product       Defective product\n",
       "1         Defective product       Defective product\n",
       "2         Defective product       Defective product\n",
       "3     Wrong product shipped  Unsatisfactory product\n",
       "4    Unsatisfactory product  Unsatisfactory product\n",
       "..                      ...                     ...\n",
       "101       Defective product       Defective product\n",
       "102      Incomplete product       Defective product\n",
       "103       Defective product       Defective product\n",
       "104       Defective product       Defective product\n",
       "105  Unsatisfactory product  Unsatisfactory product\n",
       "\n",
       "[106 rows x 2 columns]"
      ]
     },
     "execution_count": 22,
     "metadata": {},
     "output_type": "execute_result"
    }
   ],
   "source": [
    "model_results_frame = pd.concat([y_test.reset_index()['RETURN_DESCRIPTION_EN'], predicted_df],  axis=1)\n",
    "model_results_frame"
   ]
  },
  {
   "cell_type": "markdown",
   "metadata": {},
   "source": [
    "**Confusion matrix**"
   ]
  },
  {
   "cell_type": "code",
   "execution_count": 30,
   "metadata": {},
   "outputs": [
    {
     "data": {
      "image/png": "[encoded data removed]",
      "text/plain": [
       "<Figure size 640x480 with 2 Axes>"
      ]
     },
     "metadata": {},
     "output_type": "display_data"
    }
   ],
   "source": [
    "confusion_matrix = metrics.confusion_matrix(model_results_frame['RETURN_DESCRIPTION_EN'], model_results_frame['Predicted Reason'])\n",
    "cm_display = metrics.ConfusionMatrixDisplay(confusion_matrix=confusion_matrix, display_labels= [\"Def\", \"Incomp\", \"Worder\", \"Wship\", \"Unsatis\"])\n",
    "\n",
    "cm_display.plot()\n",
    "plt.show()"
   ]
  },
  {
   "cell_type": "markdown",
   "metadata": {},
   "source": [
    "**Accuracy score**"
   ]
  },
  {
   "cell_type": "code",
   "execution_count": 31,
   "metadata": {},
   "outputs": [
    {
     "data": {
      "text/plain": [
       "0.4716981132075472"
      ]
     },
     "execution_count": 31,
     "metadata": {},
     "output_type": "execute_result"
    }
   ],
   "source": [
    "metrics.accuracy_score(model_results_frame['RETURN_DESCRIPTION_EN'], model_results_frame['Predicted Reason'])"
   ]
  },
  {
   "cell_type": "markdown",
   "metadata": {},
   "source": [
    "## **Max_depth = 3**"
   ]
  },
  {
   "cell_type": "code",
   "execution_count": 32,
   "metadata": {},
   "outputs": [
    {
     "data": {
      "image/png": "[encoded data removed]",
      "text/plain": [
       "<Figure size 640x480 with 1 Axes>"
      ]
     },
     "metadata": {},
     "output_type": "display_data"
    }
   ],
   "source": [
    "dtree = DecisionTreeClassifier(max_depth=3) \n",
    "dtree = dtree.fit(x_train, y_train)\n",
    "tree.plot_tree(dtree, feature_names= x.columns)\n",
    "plt.show()"
   ]
  },
  {
   "cell_type": "markdown",
   "metadata": {},
   "source": [
    "**Prediction met x_test**"
   ]
  },
  {
   "cell_type": "code",
   "execution_count": 34,
   "metadata": {},
   "outputs": [
    {
     "data": {
      "text/html": [
       "<div>\n",
       "<style scoped>\n",
       "    .dataframe tbody tr th:only-of-type {\n",
       "        vertical-align: middle;\n",
       "    }\n",
       "\n",
       "    .dataframe tbody tr th {\n",
       "        vertical-align: top;\n",
       "    }\n",
       "\n",
       "    .dataframe thead th {\n",
       "        text-align: right;\n",
       "    }\n",
       "</style>\n",
       "<table border=\"1\" class=\"dataframe\">\n",
       "  <thead>\n",
       "    <tr style=\"text-align: right;\">\n",
       "      <th></th>\n",
       "      <th>Predicted Reason</th>\n",
       "    </tr>\n",
       "  </thead>\n",
       "  <tbody>\n",
       "    <tr>\n",
       "      <th>0</th>\n",
       "      <td>Defective product</td>\n",
       "    </tr>\n",
       "    <tr>\n",
       "      <th>1</th>\n",
       "      <td>Defective product</td>\n",
       "    </tr>\n",
       "    <tr>\n",
       "      <th>2</th>\n",
       "      <td>Defective product</td>\n",
       "    </tr>\n",
       "    <tr>\n",
       "      <th>3</th>\n",
       "      <td>Unsatisfactory product</td>\n",
       "    </tr>\n",
       "    <tr>\n",
       "      <th>4</th>\n",
       "      <td>Unsatisfactory product</td>\n",
       "    </tr>\n",
       "    <tr>\n",
       "      <th>...</th>\n",
       "      <td>...</td>\n",
       "    </tr>\n",
       "    <tr>\n",
       "      <th>101</th>\n",
       "      <td>Defective product</td>\n",
       "    </tr>\n",
       "    <tr>\n",
       "      <th>102</th>\n",
       "      <td>Defective product</td>\n",
       "    </tr>\n",
       "    <tr>\n",
       "      <th>103</th>\n",
       "      <td>Defective product</td>\n",
       "    </tr>\n",
       "    <tr>\n",
       "      <th>104</th>\n",
       "      <td>Defective product</td>\n",
       "    </tr>\n",
       "    <tr>\n",
       "      <th>105</th>\n",
       "      <td>Unsatisfactory product</td>\n",
       "    </tr>\n",
       "  </tbody>\n",
       "</table>\n",
       "<p>106 rows × 1 columns</p>\n",
       "</div>"
      ],
      "text/plain": [
       "           Predicted Reason\n",
       "0         Defective product\n",
       "1         Defective product\n",
       "2         Defective product\n",
       "3    Unsatisfactory product\n",
       "4    Unsatisfactory product\n",
       "..                      ...\n",
       "101       Defective product\n",
       "102       Defective product\n",
       "103       Defective product\n",
       "104       Defective product\n",
       "105  Unsatisfactory product\n",
       "\n",
       "[106 rows x 1 columns]"
      ]
     },
     "execution_count": 34,
     "metadata": {},
     "output_type": "execute_result"
    }
   ],
   "source": [
    "predicted_df = pd.DataFrame(dtree.predict(x_test))\n",
    "predicted_df = predicted_df.rename(columns= {0: 'Predicted Reason'})\n",
    "predicted_df"
   ]
  },
  {
   "cell_type": "markdown",
   "metadata": {},
   "source": [
    "**Prediction vergelijken met y_test**"
   ]
  },
  {
   "cell_type": "code",
   "execution_count": 36,
   "metadata": {},
   "outputs": [
    {
     "data": {
      "text/html": [
       "<div>\n",
       "<style scoped>\n",
       "    .dataframe tbody tr th:only-of-type {\n",
       "        vertical-align: middle;\n",
       "    }\n",
       "\n",
       "    .dataframe tbody tr th {\n",
       "        vertical-align: top;\n",
       "    }\n",
       "\n",
       "    .dataframe thead th {\n",
       "        text-align: right;\n",
       "    }\n",
       "</style>\n",
       "<table border=\"1\" class=\"dataframe\">\n",
       "  <thead>\n",
       "    <tr style=\"text-align: right;\">\n",
       "      <th></th>\n",
       "      <th>RETURN_DESCRIPTION_EN</th>\n",
       "      <th>Predicted Reason</th>\n",
       "    </tr>\n",
       "  </thead>\n",
       "  <tbody>\n",
       "    <tr>\n",
       "      <th>0</th>\n",
       "      <td>Incomplete product</td>\n",
       "      <td>Defective product</td>\n",
       "    </tr>\n",
       "    <tr>\n",
       "      <th>1</th>\n",
       "      <td>Defective product</td>\n",
       "      <td>Defective product</td>\n",
       "    </tr>\n",
       "    <tr>\n",
       "      <th>2</th>\n",
       "      <td>Defective product</td>\n",
       "      <td>Defective product</td>\n",
       "    </tr>\n",
       "    <tr>\n",
       "      <th>3</th>\n",
       "      <td>Wrong product shipped</td>\n",
       "      <td>Unsatisfactory product</td>\n",
       "    </tr>\n",
       "    <tr>\n",
       "      <th>4</th>\n",
       "      <td>Unsatisfactory product</td>\n",
       "      <td>Unsatisfactory product</td>\n",
       "    </tr>\n",
       "    <tr>\n",
       "      <th>...</th>\n",
       "      <td>...</td>\n",
       "      <td>...</td>\n",
       "    </tr>\n",
       "    <tr>\n",
       "      <th>101</th>\n",
       "      <td>Defective product</td>\n",
       "      <td>Defective product</td>\n",
       "    </tr>\n",
       "    <tr>\n",
       "      <th>102</th>\n",
       "      <td>Incomplete product</td>\n",
       "      <td>Defective product</td>\n",
       "    </tr>\n",
       "    <tr>\n",
       "      <th>103</th>\n",
       "      <td>Defective product</td>\n",
       "      <td>Defective product</td>\n",
       "    </tr>\n",
       "    <tr>\n",
       "      <th>104</th>\n",
       "      <td>Defective product</td>\n",
       "      <td>Defective product</td>\n",
       "    </tr>\n",
       "    <tr>\n",
       "      <th>105</th>\n",
       "      <td>Unsatisfactory product</td>\n",
       "      <td>Unsatisfactory product</td>\n",
       "    </tr>\n",
       "  </tbody>\n",
       "</table>\n",
       "<p>106 rows × 2 columns</p>\n",
       "</div>"
      ],
      "text/plain": [
       "      RETURN_DESCRIPTION_EN        Predicted Reason\n",
       "0        Incomplete product       Defective product\n",
       "1         Defective product       Defective product\n",
       "2         Defective product       Defective product\n",
       "3     Wrong product shipped  Unsatisfactory product\n",
       "4    Unsatisfactory product  Unsatisfactory product\n",
       "..                      ...                     ...\n",
       "101       Defective product       Defective product\n",
       "102      Incomplete product       Defective product\n",
       "103       Defective product       Defective product\n",
       "104       Defective product       Defective product\n",
       "105  Unsatisfactory product  Unsatisfactory product\n",
       "\n",
       "[106 rows x 2 columns]"
      ]
     },
     "execution_count": 36,
     "metadata": {},
     "output_type": "execute_result"
    }
   ],
   "source": [
    "model_results_frame = pd.concat([y_test.reset_index()['RETURN_DESCRIPTION_EN'], predicted_df], axis=1)\n",
    "model_results_frame"
   ]
  },
  {
   "cell_type": "markdown",
   "metadata": {},
   "source": [
    "**confusion matrix**"
   ]
  },
  {
   "cell_type": "code",
   "execution_count": 37,
   "metadata": {},
   "outputs": [
    {
     "data": {
      "image/png": "[encoded data removed]",
      "text/plain": [
       "<Figure size 640x480 with 2 Axes>"
      ]
     },
     "metadata": {},
     "output_type": "display_data"
    }
   ],
   "source": [
    "confusion_matrix = metrics.confusion_matrix(model_results_frame['RETURN_DESCRIPTION_EN'], model_results_frame['Predicted Reason'])\n",
    "cm_display = metrics.ConfusionMatrixDisplay(confusion_matrix=confusion_matrix, display_labels= [\"Def\", \"Incomp\", \"Worder\", \"Wship\", \"Unsatis\"])\n",
    "\n",
    "cm_display.plot()\n",
    "plt.show()"
   ]
  },
  {
   "cell_type": "markdown",
   "metadata": {},
   "source": [
    "**Accuracy score**"
   ]
  },
  {
   "cell_type": "code",
   "execution_count": 38,
   "metadata": {},
   "outputs": [
    {
     "data": {
      "text/plain": [
       "0.4716981132075472"
      ]
     },
     "execution_count": 38,
     "metadata": {},
     "output_type": "execute_result"
    }
   ],
   "source": [
    "metrics.accuracy_score(model_results_frame['RETURN_DESCRIPTION_EN'], model_results_frame['Predicted Reason'])"
   ]
  },
  {
   "cell_type": "markdown",
   "metadata": {},
   "source": [
    "**Sensitivity score**"
   ]
  },
  {
   "cell_type": "code",
   "execution_count": 48,
   "metadata": {},
   "outputs": [
    {
     "data": {
      "text/plain": [
       "array([0.5       , 0.47058824, 0.42105263, 0.3       , 0.36363636])"
      ]
     },
     "execution_count": 48,
     "metadata": {},
     "output_type": "execute_result"
    }
   ],
   "source": [
    "metrics.recall_score(model_results_frame['RETURN_DESCRIPTION_EN'], model_results_frame['Predicted Reason'], average = None)\n"
   ]
  },
  {
   "cell_type": "markdown",
   "metadata": {},
   "source": [
    "**Specificity score**"
   ]
  },
  {
   "cell_type": "code",
   "execution_count": null,
   "metadata": {},
   "outputs": [],
   "source": []
  },
  {
   "cell_type": "markdown",
   "metadata": {},
   "source": [
    "## **Geen Max_depth**"
   ]
  },
  {
   "cell_type": "code",
   "execution_count": 39,
   "metadata": {},
   "outputs": [
    {
     "data": {
      "image/png": "[encoded data removed]",
      "text/plain": [
       "<Figure size 640x480 with 1 Axes>"
      ]
     },
     "metadata": {},
     "output_type": "display_data"
    }
   ],
   "source": [
    "dtree = DecisionTreeClassifier()\n",
    "dtree = dtree.fit(x_train, y_train)\n",
    "tree.plot_tree(dtree, feature_names= x.columns)\n",
    "plt.show()"
   ]
  },
  {
   "cell_type": "markdown",
   "metadata": {},
   "source": [
    "**Evalueren**"
   ]
  },
  {
   "cell_type": "code",
   "execution_count": 40,
   "metadata": {},
   "outputs": [
    {
     "data": {
      "text/html": [
       "<div>\n",
       "<style scoped>\n",
       "    .dataframe tbody tr th:only-of-type {\n",
       "        vertical-align: middle;\n",
       "    }\n",
       "\n",
       "    .dataframe tbody tr th {\n",
       "        vertical-align: top;\n",
       "    }\n",
       "\n",
       "    .dataframe thead th {\n",
       "        text-align: right;\n",
       "    }\n",
       "</style>\n",
       "<table border=\"1\" class=\"dataframe\">\n",
       "  <thead>\n",
       "    <tr style=\"text-align: right;\">\n",
       "      <th></th>\n",
       "      <th>RETURN_DESCRIPTION_EN</th>\n",
       "      <th>Predicted Reason</th>\n",
       "    </tr>\n",
       "  </thead>\n",
       "  <tbody>\n",
       "    <tr>\n",
       "      <th>0</th>\n",
       "      <td>Incomplete product</td>\n",
       "      <td>Defective product</td>\n",
       "    </tr>\n",
       "    <tr>\n",
       "      <th>1</th>\n",
       "      <td>Defective product</td>\n",
       "      <td>Defective product</td>\n",
       "    </tr>\n",
       "    <tr>\n",
       "      <th>2</th>\n",
       "      <td>Defective product</td>\n",
       "      <td>Incomplete product</td>\n",
       "    </tr>\n",
       "    <tr>\n",
       "      <th>3</th>\n",
       "      <td>Wrong product shipped</td>\n",
       "      <td>Unsatisfactory product</td>\n",
       "    </tr>\n",
       "    <tr>\n",
       "      <th>4</th>\n",
       "      <td>Unsatisfactory product</td>\n",
       "      <td>Wrong product ordered</td>\n",
       "    </tr>\n",
       "    <tr>\n",
       "      <th>...</th>\n",
       "      <td>...</td>\n",
       "      <td>...</td>\n",
       "    </tr>\n",
       "    <tr>\n",
       "      <th>101</th>\n",
       "      <td>Defective product</td>\n",
       "      <td>Incomplete product</td>\n",
       "    </tr>\n",
       "    <tr>\n",
       "      <th>102</th>\n",
       "      <td>Incomplete product</td>\n",
       "      <td>Incomplete product</td>\n",
       "    </tr>\n",
       "    <tr>\n",
       "      <th>103</th>\n",
       "      <td>Defective product</td>\n",
       "      <td>Defective product</td>\n",
       "    </tr>\n",
       "    <tr>\n",
       "      <th>104</th>\n",
       "      <td>Defective product</td>\n",
       "      <td>Incomplete product</td>\n",
       "    </tr>\n",
       "    <tr>\n",
       "      <th>105</th>\n",
       "      <td>Unsatisfactory product</td>\n",
       "      <td>Wrong product ordered</td>\n",
       "    </tr>\n",
       "  </tbody>\n",
       "</table>\n",
       "<p>106 rows × 2 columns</p>\n",
       "</div>"
      ],
      "text/plain": [
       "      RETURN_DESCRIPTION_EN        Predicted Reason\n",
       "0        Incomplete product       Defective product\n",
       "1         Defective product       Defective product\n",
       "2         Defective product      Incomplete product\n",
       "3     Wrong product shipped  Unsatisfactory product\n",
       "4    Unsatisfactory product   Wrong product ordered\n",
       "..                      ...                     ...\n",
       "101       Defective product      Incomplete product\n",
       "102      Incomplete product      Incomplete product\n",
       "103       Defective product       Defective product\n",
       "104       Defective product      Incomplete product\n",
       "105  Unsatisfactory product   Wrong product ordered\n",
       "\n",
       "[106 rows x 2 columns]"
      ]
     },
     "execution_count": 40,
     "metadata": {},
     "output_type": "execute_result"
    }
   ],
   "source": [
    "predicted_df = pd.DataFrame(dtree.predict(x_test))\n",
    "predicted_df = predicted_df.rename(columns= {0: 'Predicted Reason'})\n",
    "model_results_frame = pd.concat([y_test.reset_index()['RETURN_DESCRIPTION_EN'], predicted_df], axis=1)\n",
    "model_results_frame"
   ]
  },
  {
   "cell_type": "markdown",
   "metadata": {},
   "source": [
    "**Confusion matrix**"
   ]
  },
  {
   "cell_type": "code",
   "execution_count": 41,
   "metadata": {},
   "outputs": [
    {
     "data": {
      "image/png": "[encoded data removed]",
      "text/plain": [
       "<Figure size 640x480 with 2 Axes>"
      ]
     },
     "metadata": {},
     "output_type": "display_data"
    }
   ],
   "source": [
    "confusion_matrix = metrics.confusion_matrix(model_results_frame['RETURN_DESCRIPTION_EN'], model_results_frame['Predicted Reason'])\n",
    "cm_display = metrics.ConfusionMatrixDisplay(confusion_matrix=confusion_matrix, display_labels= [\"Def\", \"Incomp\", \"Worder\", \"Wship\", \"Unsatis\"])\n",
    "\n",
    "cm_display.plot()\n",
    "plt.show()"
   ]
  },
  {
   "cell_type": "markdown",
   "metadata": {},
   "source": [
    "**Accuracy score**"
   ]
  },
  {
   "cell_type": "code",
   "execution_count": 42,
   "metadata": {},
   "outputs": [
    {
     "data": {
      "text/plain": [
       "0.44339622641509435"
      ]
     },
     "execution_count": 42,
     "metadata": {},
     "output_type": "execute_result"
    }
   ],
   "source": [
    "metrics.accuracy_score(model_results_frame['RETURN_DESCRIPTION_EN'], model_results_frame['Predicted Reason'])"
   ]
  }
 ],
 "metadata": {
  "kernelspec": {
   "display_name": "deds-portofolio-7jIqONoT-py3.11",
   "language": "python",
   "name": "python3"
  },
  "language_info": {
   "codemirror_mode": {
    "name": "ipython",
    "version": 3
   },
   "file_extension": ".py",
   "mimetype": "text/x-python",
   "name": "python",
   "nbconvert_exporter": "python",
   "pygments_lexer": "ipython3",
   "version": "3.11.8"
  }
 },
 "nbformat": 4,
 "nbformat_minor": 2
}
